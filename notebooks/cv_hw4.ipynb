{
  "cells": [
    {
      "cell_type": "markdown",
      "metadata": {
        "id": "kLFrlgtFbccU"
      },
      "source": [
        "# Домашнее задание 4\n",
        "\n",
        "Реализуйте поиск объекта с референсного изображения на кадрах видео с помощью поиска и сопоставления ключевых точек. В этом задании рекомендуется активно пользоваться гуглом :)\n",
        "\n",
        "Скорее всего сопоставление не будет идеальным. Этого и не требуется, достаточно продемонстрировать работоспособность как минимум на первой половине видео.\n",
        "\n",
        "Объясните в отдельной клетке, какие эффекты наблюдаются ближе к концу видео и почему."
      ]
    },
    {
      "cell_type": "code",
      "execution_count": null,
      "metadata": {
        "id": "pynhXIAVbccX",
        "outputId": "5a93abcb-5f89-448b-f15b-e5c13469fa52"
      },
      "outputs": [
        {
          "data": {
            "text/plain": [
              "-1"
            ]
          },
          "execution_count": 1,
          "metadata": {},
          "output_type": "execute_result"
        }
      ],
      "source": [
        "import numpy as np\n",
        "import cv2\n",
        "import matplotlib.pyplot as plt\n",
        "%matplotlib inline\n",
        "\n",
        "ref_path = \"/Users/dududugin/Desktop/CVR23/hw4/ref.jpg\"\n",
        "vid_path = \"/Users/dududugin/Desktop/CVR23/hw4/vid.mp4\"\n",
        "\n",
        "reference = cv2.imread(ref_path)\n",
        "cam = cv2.VideoCapture(vid_path)\n",
        "\n",
        "### YOUR CODE BELOW\n",
        "\n",
        "gray1 = cv2.cvtColor(reference,cv2.COLOR_BGR2GRAY)\n",
        "#create sift object\n",
        "sift = cv2.SIFT_create()\n",
        "#calculate  keypoints and their orientation\n",
        "keypoints1 ,descriptors1 = sift.detectAndCompute(gray1, None)\n",
        "\n",
        "#plot keypoints on the image\n",
        "#with_keypoints = cv2.drawKeypoints(gray1, keypoints1, gray1)\n",
        "#plot the image\n",
        "\n",
        "\n",
        "\n",
        "### YOUR CODE ABOVE\n",
        "\n",
        "while(True):\n",
        "    ret, frame = cam.read()\n",
        "    \n",
        "    if (ret == False):\n",
        "        cam.release()\n",
        "        cam = cv2.VideoCapture(vid_path)\n",
        "        continue\n",
        "    \n",
        "    ### YOUR CODE BELOW\n",
        "    gray2 = cv2.cvtColor(frame,cv2.COLOR_BGR2GRAY)\n",
        "    #create sift object\n",
        "    #calculate  keypoints and their orientation\n",
        "    keypoints2 ,descriptors2 = sift.detectAndCompute(gray2, None)\n",
        "    \n",
        "    \n",
        "    \n",
        "    # create BFMatcher object\n",
        "    \n",
        "    bf = cv2.BFMatcher()\n",
        "    # Match descriptors.\n",
        "    matches = bf.knnMatch(descriptors1, descriptors2, k = 2)\n",
        "    # Apply ratio test\n",
        "    good = []\n",
        "    for m,n in matches:\n",
        "        if m.distance < 0.63*n.distance:\n",
        "            good.append([m])\n",
        "        \n",
        "    ### YOUR CODE ABOVE\n",
        "    \n",
        "    result = cv2.drawMatchesKnn(reference, keypoints1, frame, keypoints2, good[:30], None,  flags=cv2.DrawMatchesFlags_NOT_DRAW_SINGLE_POINTS)\n",
        "    \n",
        "    \n",
        "    \n",
        "    cv2.imshow(\"matched\", result)\n",
        "    \n",
        "    key = cv2.waitKey(1000) & 0xFF\n",
        "        \n",
        "    if (key == ord('q')):\n",
        "        break\n",
        "\n",
        "cam.release()\n",
        "cv2.destroyAllWindows()\n",
        "cv2.waitKey(10)"
      ]
    },
    {
      "cell_type": "code",
      "execution_count": null,
      "metadata": {
        "id": "1_VW_0SwmI7u"
      },
      "outputs": [],
      "source": []
    }
  ],
  "metadata": {
    "colab": {
      "provenance": []
    },
    "kernelspec": {
      "display_name": "Python 3 (ipykernel)",
      "language": "python",
      "name": "python3"
    },
    "language_info": {
      "codemirror_mode": {
        "name": "ipython",
        "version": 3
      },
      "file_extension": ".py",
      "mimetype": "text/x-python",
      "name": "python",
      "nbconvert_exporter": "python",
      "pygments_lexer": "ipython3",
      "version": "3.9.13"
    }
  },
  "nbformat": 4,
  "nbformat_minor": 0
}